{
 "cells": [
  {
   "cell_type": "code",
   "execution_count": 23,
   "id": "91e8c675-507f-49d9-a1d1-5d00c771ee39",
   "metadata": {},
   "outputs": [
    {
     "name": "stdout",
     "output_type": "stream",
     "text": [
      "Nothing to do! Specify one of the following arguments:\n",
      "\t --benchmark [-b]: run a benchmark\n",
      "\t --search [-s]: run a random search\n"
     ]
    }
   ],
   "source": [
    "# GENERAL LIBRARIES\n",
    "import os\n",
    "os.environ['CUDA_VISIBLE_DEVICES'] = '1'\n",
    "os.environ['TF_CPP_MIN_LOG_LEVEL'] = '1' \n",
    "import absl.logging\n",
    "absl.logging.set_verbosity(absl.logging.ERROR)\n",
    "import argparse\n",
    "from datetime import datetime\n",
    "# MACHINE LEARNING LIBRARIES\n",
    "import numpy as np\n",
    "import tensorflow as tf\n",
    "# CUSTOM LIBRARIES\n",
    "from utils.tools import read_yaml, Logger\n",
    "from utils.trainer import Trainer\n",
    "\n",
    "# LOAD CONFIG \n",
    "#parser = argparse.ArgumentParser(description='Process some input')\n",
    "#parser.add_argument('--config', default='utils/config.yaml', type=str, help='Config path', required=False)    \n",
    "#parser.add_argument('--infer','-i', action='store_true', help='Run inference on a model') \n",
    "#parser.add_argument('--benchmark','-b', action='store_true', help='Run a benchmark') \n",
    "#parser.add_argument('--search','-s', action='store_true', help='Run a random search')\n",
    "\n",
    "\n",
    "class Args:\n",
    "    def __init__(self):\n",
    "        self.config = \"utils/config.yaml\"\n",
    "        self.infer = False\n",
    "        self.benchmark = False\n",
    "        self.search = False\n",
    "    \n",
    "args = Args() #parser.parse_args()\n",
    "config = read_yaml(args.config)\n",
    "\n",
    "config['LEGACY']=True\n",
    "\n",
    "config['DATASET']='openpose_legacy'\n",
    "\n",
    "for entry in ['MODEL_DIR','RESULTS_DIR','LOG_DIR']:\n",
    "    if not os.path.exists(config[entry]):\n",
    "        os.mkdir(config[entry])\n",
    "\n",
    "now = datetime.now()\n",
    "logger = Logger(config['LOG_DIR']+now.strftime(\"%y%m%d%H%M%S\")+'.txt')\n",
    "\n",
    "\n",
    "# SET GPU \n",
    "os.environ['TF_CPP_MIN_LOG_LEVEL'] = '1'\n",
    "tf.compat.v1.logging.set_verbosity(tf.compat.v1.logging.ERROR)\n",
    "\n",
    "gpus = tf.config.experimental.list_physical_devices('GPU')\n",
    "tf.config.experimental.set_visible_devices(gpus[config['GPU']], 'GPU')\n",
    "tf.config.experimental.set_memory_growth(gpus[config['GPU']], True)\n",
    "\n",
    "\n",
    "# SET TRAINER\n",
    "trainer = Trainer(config, logger)\n",
    "\n",
    "if args.benchmark:\n",
    "    # RUN BENCHMARK\n",
    "    trainer.do_benchmark()\n",
    "elif args.infer:\n",
    "    trainer.do_inference()\n",
    "elif args.search:\n",
    "    # RUN RANDOM SEARCH\n",
    "    trainer.do_random_search()\n",
    "else:\n",
    "    print('Nothing to do! Specify one of the following arguments:')\n",
    "    print('\\t --benchmark [-b]: run a benchmark')\n",
    "    print('\\t --search [-s]: run a random search')"
   ]
  },
  {
   "cell_type": "code",
   "execution_count": 24,
   "id": "ec145335-9f73-4a69-9788-dba9f575bda0",
   "metadata": {},
   "outputs": [
    {
     "name": "stdout",
     "output_type": "stream",
     "text": [
      "X_train shape: (12562, 30, 52)\n",
      "y_train shape: (12562,)\n",
      "X_test shape: (2867, 30, 52)\n",
      "y_test shape: (2867,)\n"
     ]
    }
   ],
   "source": [
    "trainer.get_data()"
   ]
  },
  {
   "cell_type": "code",
   "execution_count": 25,
   "id": "8435f675-f4ee-4e33-9284-c5c247952468",
   "metadata": {},
   "outputs": [
    {
     "name": "stdout",
     "output_type": "stream",
     "text": [
      "zeros_tensor [None, 1, 64]\n",
      "skeleton_emb [None, 31, 64]\n"
     ]
    }
   ],
   "source": [
    "#trainer.ds_train\n",
    "trainer.get_model()"
   ]
  },
  {
   "cell_type": "code",
   "execution_count": 8,
   "id": "a69cd318-95f4-47e9-8f2c-d8ff77db1dcb",
   "metadata": {},
   "outputs": [
    {
     "name": "stdout",
     "output_type": "stream",
     "text": [
      "<PrefetchDataset element_spec=(TensorSpec(shape=(None, 30, 52), dtype=tf.float64, name=None), TensorSpec(shape=(None, 20), dtype=tf.float32, name=None))>\n"
     ]
    }
   ],
   "source": [
    "tf.print(trainer.ds_train)"
   ]
  },
  {
   "cell_type": "code",
   "execution_count": 14,
   "id": "e1ee561f-bb3f-4acc-a545-0f8ab48179e2",
   "metadata": {},
   "outputs": [
    {
     "name": "stdout",
     "output_type": "stream",
     "text": [
      "Size of first tensor: [512 30 52]\n",
      "Size of first tensor: [512 30 52]\n",
      "tf.Tensor([0. 0. 0. 0. 0. 0. 0. 0. 0. 1. 0. 0. 0. 0. 0. 0. 0. 0. 0. 0.], shape=(20,), dtype=float32)\n",
      "label 9\n",
      "onn (1, 30, 52)\n"
     ]
    }
   ],
   "source": [
    "#for tensor1, tensor2 in trainer.ds_val:\n",
    "#  tf.print(\"First tensor:\")\n",
    "#  tf.print(tensor1)\n",
    "#  tf.print(\"Second tensor:\")\n",
    "#  tf.print(tensor2)\n",
    "onn = []\n",
    "rnd = 1\n",
    "ind = 0\n",
    "#tf.print(\"Size tensor:\", tf.shape( trainer.ds_train ) ) \n",
    "for tensor1, tensor2 in trainer.ds_train:\n",
    "  tf.print(\"Size of first tensor:\", tf.shape(tensor1) ) #, tensor1[0,:,:][0] )\n",
    "  #tf.print(\"Size of 2 tensor:\", tf.shape(tensor2) ) #, tensor1[0,:,:][0] )\n",
    "  if ind == rnd:\n",
    "      onn.append( tensor1[:,:,:][-1])\n",
    "      print( tensor2[0] )\n",
    "      print(\"label\", np.argmax(tensor2[0].numpy()) )\n",
    "      break\n",
    "  #tf.print(\"Size of second tensor:\", tf.shape(tensor2))\n",
    "  #tf.print(tensor2[0,:])\n",
    "  ind+=1\n",
    "print(\"onn\", np.shape(onn))"
   ]
  },
  {
   "cell_type": "code",
   "execution_count": 15,
   "id": "772d18d3-3232-4951-86fb-a5fd84dcb378",
   "metadata": {},
   "outputs": [
    {
     "data": {
      "text/plain": [
       "TensorShape([30, 52])"
      ]
     },
     "execution_count": 15,
     "metadata": {},
     "output_type": "execute_result"
    }
   ],
   "source": [
    "#onn[0].numpy()\n",
    "np.shape(onn[0])"
   ]
  },
  {
   "cell_type": "code",
   "execution_count": 16,
   "id": "43aac1c7-a80b-4b7c-b01f-43eebe60eb62",
   "metadata": {},
   "outputs": [
    {
     "data": {
      "text/plain": [
       "(1, 30, 52)"
      ]
     },
     "execution_count": 16,
     "metadata": {},
     "output_type": "execute_result"
    }
   ],
   "source": [
    "np.shape(onn)"
   ]
  },
  {
   "cell_type": "code",
   "execution_count": 17,
   "id": "9b0b9dad-76a6-4d12-b6e6-888c928ef1a9",
   "metadata": {},
   "outputs": [
    {
     "name": "stdout",
     "output_type": "stream",
     "text": [
      "0\n",
      "min -0.47264692465271485\n",
      "max 0.05929235897057221\n",
      "(1, 30, 52)\n",
      "tf.Tensor(\n",
      "[-0.19368998 -0.41866663 -0.14096769 -0.35108367  0.07163344  0.0292081\n",
      "  0.05929236  0.04246622  0.03652982  0.67972689 -0.05860838  0.51362242\n",
      " -0.41525967  0.49150801 -0.41469149  0.48040577 -0.17815413 -0.04087396\n",
      " -0.12910013  0.01126494 -0.15353689  0.42368565 -0.19483371  0.38685632\n",
      " -0.465867    0.43379484 -0.47264692  0.4395735   0.0181957   0.9962156\n",
      "  0.03813934  1.01498879 -0.11668819  1.69809889 -0.15606557  1.73083678\n",
      " -0.11089871  2.51447116 -0.08371714  2.52603489 -0.13767251  1.04427652\n",
      " -0.12718007  1.00452681  0.02811039  1.67200286 -0.00646988  1.64085672\n",
      " -0.05249407  2.39454331 -0.01302005  2.39111807], shape=(52,), dtype=float64)\n"
     ]
    }
   ],
   "source": [
    "#arr = [1, 2, 3, 4, 5, 6, 7, 8, 9, 10, 11, 12, 13, 14, 15, 16, 17, 18, 19, 20, 21, 22, 23, 24, 25, 26, 27, 28, 29, 30, 31, 32, 33, 34, 35, 36, 37, 38, 39, 40, 41, 42, 43, 44, 45, 46, 47, 48, 49, 50, 51, 52]\n",
    "arr = onn\n",
    "result = []\n",
    "\n",
    "for i in range(0, len(arr), 4):\n",
    "    #result.append(arr[i])\n",
    "    if i + 1 < len(arr):\n",
    "        result.append( (arr[i], arr[i+1]) )\n",
    "\n",
    "#print(result)\n",
    "print(len(result))\n",
    "\n",
    "\n",
    "\n",
    "len(onn[0][0])\n",
    "\n",
    "arrr=[]\n",
    "\n",
    "for i in range(2,len(onn[0][0]), 4):\n",
    "    #print(i,onn[0][0][i].numpy())\n",
    "    arrr.append(onn[0][0][i].numpy())\n",
    "print(\"min\",min(arrr))\n",
    "print(\"max\",max(arrr))\n",
    "\n",
    "\n",
    "arrr = onn[0][0][38:].numpy()\n",
    "#print(\"min\",min(arrr))\n",
    "#print(\"max\",max(arrr))  \n",
    "\n",
    "print( np.shape(onn) )\n",
    "print( (onn[0][0]) )"
   ]
  },
  {
   "cell_type": "code",
   "execution_count": 18,
   "id": "aa653f45-37ba-4b90-8aa7-8a1722f5538e",
   "metadata": {},
   "outputs": [
    {
     "name": "stdout",
     "output_type": "stream",
     "text": [
      "onn shape (1, 30, 52)\n",
      "one (30, 52)\n",
      "res (30, 13, 2)\n",
      "res[0] 13\n",
      "min [-0.7590120226812831, 0.26320522229675064]\n",
      "max [0.31358750725396867, 0.4051550659255054]\n"
     ]
    }
   ],
   "source": [
    "#arr2 = onn.numpy()\n",
    "#xx = arr2[0:13]\n",
    "#yy = arr2[13:26]\n",
    "\n",
    "print( \"onn shape\", np.shape(onn) )\n",
    "#xx = arr2[26:39]\n",
    "#yy = arr2[39:52]\n",
    "\n",
    "#print( np.shape(xx) )\n",
    "#print( np.shape(yy) )\n",
    "\n",
    "res = []\n",
    "\n",
    "item = onn[0]\n",
    "print(\"one\", np.shape(item) )\n",
    "for one in item:\n",
    "    xx=[]\n",
    "    yy=[]\n",
    "    \n",
    "    for i in range(0, len(one), 4):\n",
    "        if i + 1 < len(one):\n",
    "            xx.append( one.numpy()[i] )\n",
    "            yy.append( one.numpy()[i+1] )\n",
    "    #        #result.append( (arr[i], arr[i+1]) )\n",
    "    \n",
    "    #xx = one.numpy()[0:13]\n",
    "    #yy = one.numpy()[13:26]\n",
    "    #xx = one.numpy()[26:39]\n",
    "    #yy = one.numpy()[39:]\n",
    "    temp=[]\n",
    "    for i in range(13):\n",
    "        temp.append( [xx[i],yy[i]] )\n",
    "    res.append(temp)\n",
    "    \n",
    "    \n",
    "print( 'res',np.shape(res) )\n",
    "\n",
    "print('res[0]', len(res[0]))\n",
    "\n",
    "print(\"min\", min(min(res)))\n",
    "print(\"max\", max(max(res)))"
   ]
  },
  {
   "cell_type": "code",
   "execution_count": 19,
   "id": "d2c2ff33-6f05-42f0-97fe-d8e4315c9ab7",
   "metadata": {},
   "outputs": [],
   "source": [
    "import matplotlib.pyplot as plt\n",
    "\n",
    "def draw_skeleton(keypoints,figsize=(8,8)):\n",
    "    # Define the connections between the keypoints\n",
    "    #connections = [(0,1), (1,2), (2,3), (3,4), (1,5), (5,6), (6,7), (1,8), (8,9), (9,10), (10,11), (8,12)]\n",
    "    #connections = [(0,1), (1,2), (2,3), (0,4), (4,5), (5,6), (0,7), (7,8), (8,9), (9,10), (10,11), (8,12)]\n",
    "    #connections = [(0,1), (1,2), (2,3), (3,4), (0,5), (5,6), (6,7), (7,8), (0,9), (9,10), (10,11), (11,12),]\n",
    "    connections = [(0,1), (1,2), (2,3), (3,4), (1,5), (5,6), (6,7), (7,8), (1,9), (9,10), (10,11)]\n",
    "    \n",
    "    # Create a new figure\n",
    "    fig, ax = plt.subplots(figsize=figsize)\n",
    "    \n",
    "    # Loop through the connections and draw the skeleton\n",
    "    for connection in connections:\n",
    "        start_point = keypoints[connection[0]]\n",
    "        end_point = keypoints[connection[1]]\n",
    "        ax.plot([start_point[0], end_point[0]], [start_point[1], end_point[1]], 'b-', linewidth=2)\n",
    "    \n",
    "    # Set the x and y limits\n",
    "    x_min, x_max = min([p[0] for p in keypoints]), max([p[0] for p in keypoints])\n",
    "    y_min, y_max = min([p[1] for p in keypoints]), max([p[1] for p in keypoints])\n",
    "    ax.set_xlim([x_min-1, x_max+1])\n",
    "    ax.set_ylim([y_max+1, y_min-1])\n",
    "    \n",
    "    # Turn off the axis labels\n",
    "    ax.axis('off')\n",
    "    \n",
    "    # Show the figure\n",
    "    plt.show()\n",
    "    \n",
    "def draw_skeleton2(points,figsize=(8,8)):\n",
    "    fig, ax = plt.subplots(figsize=figsize)\n",
    "    labels = np.arange(len(points))\n",
    "    offset = -0.05\n",
    "    # Define the bone connections\n",
    "    #bones = [ (0,1), (1,2), (2,3), (0,4), (4,5), (5,6), (0,7), (7,8), (8,9), (0,10), (10,11), (11,12) ]\n",
    "    if len(points)==13:\n",
    "        #bones = [ (0,1), (1,2), (2,3), (0,4), (4,5), (5,6), (0,7), (7,8), (8,9), (0,10), (10,11), (11,12) ]\n",
    "        bones = [ (0,1), (1,2), (1,4), (2,3), (0,4), (4,5), (5,6), (1,7), (7,8), (8,9), (7,10), (4,10), (10,11), (11,12) ]\n",
    "        \n",
    "    else:\n",
    "        bones = [ (0,1), (1,2), (2,3), (3,4), (1,5), (5,6), (6,7), (1,8), (8,9), (9,10), (10,11), (8,12), (12,13), (13,14) ]\n",
    "        #bones = [ (0,1), (1,2), (2,3), (3,4), (1,5), (5,6), (6,7), (2,9), (5,12), (8,9), (9,10), (10,11), (8,12), (12,13), (13,14) ]\n",
    "    # Draw the bones\n",
    "    for bone in bones:\n",
    "        x = [points[bone[0]][0], points[bone[1]][0]]\n",
    "        y = [points[bone[0]][1], points[bone[1]][1]]\n",
    "        ax.plot(x, y, linewidth=2, color='red')\n",
    "\n",
    "    # Draw the keypoints\n",
    "    for i in range(len(points)):\n",
    "        x, y = points[i]\n",
    "        ax.scatter(x, y, s=50, color='blue')\n",
    "        \n",
    "    for i, label in enumerate(labels):\n",
    "        ax.text(points[i][0], points[i][1]  + offset , label, ha='center', va='center')\n",
    "\n",
    "    # Set the x and y limits\n",
    "    x_min = min(points, key=lambda x: x[0])[0] - .5\n",
    "    x_max = max(points, key=lambda x: x[0])[0] + .5\n",
    "    y_min = min(points, key=lambda x: x[1])[1] - .5\n",
    "    y_max = max(points, key=lambda x: x[1])[1] + .5\n",
    "    ax.set_xlim([x_min, x_max])\n",
    "    ax.set_ylim([y_min, y_max])\n",
    "    plt.gca().invert_yaxis()\n",
    "    # Show the plot\n",
    "    plt.show()"
   ]
  },
  {
   "cell_type": "code",
   "execution_count": 20,
   "id": "1d49b2c4-506e-4ab9-9513-a6ae76b73bd4",
   "metadata": {},
   "outputs": [
    {
     "data": {
      "image/png": "[encoded data removed]",
      "text/plain": [
       "<Figure size 800x800 with 1 Axes>"
      ]
     },
     "metadata": {},
     "output_type": "display_data"
    }
   ],
   "source": [
    "draw_skeleton2(res[1])"
   ]
  },
  {
   "cell_type": "code",
   "execution_count": null,
   "id": "3723a24e-a074-42d8-b57c-1495af596a47",
   "metadata": {},
   "outputs": [],
   "source": []
  },
  {
   "cell_type": "code",
   "execution_count": null,
   "id": "ba15fe33-398b-429a-943b-a087ed541c37",
   "metadata": {},
   "outputs": [],
   "source": []
  },
  {
   "cell_type": "code",
   "execution_count": 21,
   "id": "8895e57d-5af2-40eb-8102-fbe7760dfb57",
   "metadata": {},
   "outputs": [],
   "source": [
    "#len(result)"
   ]
  },
  {
   "cell_type": "code",
   "execution_count": 22,
   "id": "aa821b1e-fc92-4a90-9947-74ceb4949d88",
   "metadata": {},
   "outputs": [
    {
     "name": "stderr",
     "output_type": "stream",
     "text": [
      "MovieWriter stderr:\n",
      "ffmpeg: error while loading shared libraries: libopenh264.so.5: cannot open shared object file: No such file or directory\n",
      "\n"
     ]
    },
    {
     "ename": "CalledProcessError",
     "evalue": "Command '['ffmpeg', '-f', 'rawvideo', '-vcodec', 'rawvideo', '-s', '640x480', '-pix_fmt', 'rgba', '-r', '10.0', '-loglevel', 'error', '-i', 'pipe:', '-vcodec', 'h264', '-pix_fmt', 'yuv420p', '-y', '/tmp/tmpe5l4s3ba/temp.m4v']' returned non-zero exit status 127.",
     "output_type": "error",
     "traceback": [
      "\u001b[0;31m---------------------------------------------------------------------------\u001b[0m",
      "\u001b[0;31mBrokenPipeError\u001b[0m                           Traceback (most recent call last)",
      "File \u001b[0;32m~/anaconda3/envs/action/lib/python3.8/site-packages/matplotlib/animation.py:251\u001b[0m, in \u001b[0;36mAbstractMovieWriter.saving\u001b[0;34m(self, fig, outfile, dpi, *args, **kwargs)\u001b[0m\n\u001b[1;32m    250\u001b[0m \u001b[38;5;28;01mtry\u001b[39;00m:\n\u001b[0;32m--> 251\u001b[0m     \u001b[38;5;28;01myield\u001b[39;00m \u001b[38;5;28mself\u001b[39m\n\u001b[1;32m    252\u001b[0m \u001b[38;5;28;01mfinally\u001b[39;00m:\n",
      "File \u001b[0;32m~/anaconda3/envs/action/lib/python3.8/site-packages/matplotlib/animation.py:1161\u001b[0m, in \u001b[0;36mAnimation.save\u001b[0;34m(self, filename, writer, fps, dpi, codec, bitrate, extra_args, metadata, extra_anim, savefig_kwargs, progress_callback)\u001b[0m\n\u001b[1;32m   1160\u001b[0m         frame_number \u001b[38;5;241m+\u001b[39m\u001b[38;5;241m=\u001b[39m \u001b[38;5;241m1\u001b[39m\n\u001b[0;32m-> 1161\u001b[0m \u001b[43mwriter\u001b[49m\u001b[38;5;241;43m.\u001b[39;49m\u001b[43mgrab_frame\u001b[49m\u001b[43m(\u001b[49m\u001b[38;5;241;43m*\u001b[39;49m\u001b[38;5;241;43m*\u001b[39;49m\u001b[43msavefig_kwargs\u001b[49m\u001b[43m)\u001b[49m\n",
      "File \u001b[0;32m~/anaconda3/envs/action/lib/python3.8/site-packages/matplotlib/animation.py:363\u001b[0m, in \u001b[0;36mMovieWriter.grab_frame\u001b[0;34m(self, **savefig_kwargs)\u001b[0m\n\u001b[1;32m    362\u001b[0m \u001b[38;5;66;03m# Save the figure data to the sink, using the frame format and dpi.\u001b[39;00m\n\u001b[0;32m--> 363\u001b[0m \u001b[38;5;28;43mself\u001b[39;49m\u001b[38;5;241;43m.\u001b[39;49m\u001b[43mfig\u001b[49m\u001b[38;5;241;43m.\u001b[39;49m\u001b[43msavefig\u001b[49m\u001b[43m(\u001b[49m\u001b[38;5;28;43mself\u001b[39;49m\u001b[38;5;241;43m.\u001b[39;49m\u001b[43m_frame_sink\u001b[49m\u001b[43m(\u001b[49m\u001b[43m)\u001b[49m\u001b[43m,\u001b[49m\u001b[43m \u001b[49m\u001b[38;5;28;43mformat\u001b[39;49m\u001b[38;5;241;43m=\u001b[39;49m\u001b[38;5;28;43mself\u001b[39;49m\u001b[38;5;241;43m.\u001b[39;49m\u001b[43mframe_format\u001b[49m\u001b[43m,\u001b[49m\n\u001b[1;32m    364\u001b[0m \u001b[43m                 \u001b[49m\u001b[43mdpi\u001b[49m\u001b[38;5;241;43m=\u001b[39;49m\u001b[38;5;28;43mself\u001b[39;49m\u001b[38;5;241;43m.\u001b[39;49m\u001b[43mdpi\u001b[49m\u001b[43m,\u001b[49m\u001b[43m \u001b[49m\u001b[38;5;241;43m*\u001b[39;49m\u001b[38;5;241;43m*\u001b[39;49m\u001b[43msavefig_kwargs\u001b[49m\u001b[43m)\u001b[49m\n",
      "File \u001b[0;32m~/anaconda3/envs/action/lib/python3.8/site-packages/matplotlib/figure.py:2311\u001b[0m, in \u001b[0;36mFigure.savefig\u001b[0;34m(self, fname, transparent, **kwargs)\u001b[0m\n\u001b[1;32m   2309\u001b[0m         patch\u001b[38;5;241m.\u001b[39mset_edgecolor(\u001b[38;5;124m'\u001b[39m\u001b[38;5;124mnone\u001b[39m\u001b[38;5;124m'\u001b[39m)\n\u001b[0;32m-> 2311\u001b[0m \u001b[38;5;28;43mself\u001b[39;49m\u001b[38;5;241;43m.\u001b[39;49m\u001b[43mcanvas\u001b[49m\u001b[38;5;241;43m.\u001b[39;49m\u001b[43mprint_figure\u001b[49m\u001b[43m(\u001b[49m\u001b[43mfname\u001b[49m\u001b[43m,\u001b[49m\u001b[43m \u001b[49m\u001b[38;5;241;43m*\u001b[39;49m\u001b[38;5;241;43m*\u001b[39;49m\u001b[43mkwargs\u001b[49m\u001b[43m)\u001b[49m\n\u001b[1;32m   2313\u001b[0m \u001b[38;5;28;01mif\u001b[39;00m transparent:\n",
      "File \u001b[0;32m~/anaconda3/envs/action/lib/python3.8/site-packages/matplotlib/backend_bases.py:2210\u001b[0m, in \u001b[0;36mFigureCanvasBase.print_figure\u001b[0;34m(self, filename, dpi, facecolor, edgecolor, orientation, format, bbox_inches, pad_inches, bbox_extra_artists, backend, **kwargs)\u001b[0m\n\u001b[1;32m   2209\u001b[0m \u001b[38;5;28;01mtry\u001b[39;00m:\n\u001b[0;32m-> 2210\u001b[0m     result \u001b[38;5;241m=\u001b[39m \u001b[43mprint_method\u001b[49m\u001b[43m(\u001b[49m\n\u001b[1;32m   2211\u001b[0m \u001b[43m        \u001b[49m\u001b[43mfilename\u001b[49m\u001b[43m,\u001b[49m\n\u001b[1;32m   2212\u001b[0m \u001b[43m        \u001b[49m\u001b[43mdpi\u001b[49m\u001b[38;5;241;43m=\u001b[39;49m\u001b[43mdpi\u001b[49m\u001b[43m,\u001b[49m\n\u001b[1;32m   2213\u001b[0m \u001b[43m        \u001b[49m\u001b[43mfacecolor\u001b[49m\u001b[38;5;241;43m=\u001b[39;49m\u001b[43mfacecolor\u001b[49m\u001b[43m,\u001b[49m\n\u001b[1;32m   2214\u001b[0m \u001b[43m        \u001b[49m\u001b[43medgecolor\u001b[49m\u001b[38;5;241;43m=\u001b[39;49m\u001b[43medgecolor\u001b[49m\u001b[43m,\u001b[49m\n\u001b[1;32m   2215\u001b[0m \u001b[43m        \u001b[49m\u001b[43morientation\u001b[49m\u001b[38;5;241;43m=\u001b[39;49m\u001b[43morientation\u001b[49m\u001b[43m,\u001b[49m\n\u001b[1;32m   2216\u001b[0m \u001b[43m        \u001b[49m\u001b[43mbbox_inches_restore\u001b[49m\u001b[38;5;241;43m=\u001b[39;49m\u001b[43m_bbox_inches_restore\u001b[49m\u001b[43m,\u001b[49m\n\u001b[1;32m   2217\u001b[0m \u001b[43m        \u001b[49m\u001b[38;5;241;43m*\u001b[39;49m\u001b[38;5;241;43m*\u001b[39;49m\u001b[43mkwargs\u001b[49m\u001b[43m)\u001b[49m\n\u001b[1;32m   2218\u001b[0m \u001b[38;5;28;01mfinally\u001b[39;00m:\n",
      "File \u001b[0;32m~/anaconda3/envs/action/lib/python3.8/site-packages/matplotlib/backend_bases.py:1639\u001b[0m, in \u001b[0;36m_check_savefig_extra_args.<locals>.wrapper\u001b[0;34m(*args, **kwargs)\u001b[0m\n\u001b[1;32m   1637\u001b[0m     kwargs\u001b[38;5;241m.\u001b[39mpop(arg)\n\u001b[0;32m-> 1639\u001b[0m \u001b[38;5;28;01mreturn\u001b[39;00m \u001b[43mfunc\u001b[49m\u001b[43m(\u001b[49m\u001b[38;5;241;43m*\u001b[39;49m\u001b[43margs\u001b[49m\u001b[43m,\u001b[49m\u001b[43m \u001b[49m\u001b[38;5;241;43m*\u001b[39;49m\u001b[38;5;241;43m*\u001b[39;49m\u001b[43mkwargs\u001b[49m\u001b[43m)\u001b[49m\n",
      "File \u001b[0;32m~/anaconda3/envs/action/lib/python3.8/site-packages/matplotlib/backends/backend_agg.py:456\u001b[0m, in \u001b[0;36mFigureCanvasAgg.print_raw\u001b[0;34m(self, filename_or_obj, *args)\u001b[0m\n\u001b[1;32m    455\u001b[0m \u001b[38;5;28;01mwith\u001b[39;00m cbook\u001b[38;5;241m.\u001b[39mopen_file_cm(filename_or_obj, \u001b[38;5;124m\"\u001b[39m\u001b[38;5;124mwb\u001b[39m\u001b[38;5;124m\"\u001b[39m) \u001b[38;5;28;01mas\u001b[39;00m fh:\n\u001b[0;32m--> 456\u001b[0m     \u001b[43mfh\u001b[49m\u001b[38;5;241;43m.\u001b[39;49m\u001b[43mwrite\u001b[49m\u001b[43m(\u001b[49m\u001b[43mrenderer\u001b[49m\u001b[38;5;241;43m.\u001b[39;49m\u001b[43mbuffer_rgba\u001b[49m\u001b[43m(\u001b[49m\u001b[43m)\u001b[49m\u001b[43m)\u001b[49m\n",
      "\u001b[0;31mBrokenPipeError\u001b[0m: [Errno 32] Broken pipe",
      "\nDuring handling of the above exception, another exception occurred:\n",
      "\u001b[0;31mCalledProcessError\u001b[0m                        Traceback (most recent call last)",
      "Cell \u001b[0;32mIn[22], line 66\u001b[0m\n\u001b[1;32m     60\u001b[0m \u001b[38;5;28;01mfrom\u001b[39;00m \u001b[38;5;21;01mIPython\u001b[39;00m\u001b[38;5;21;01m.\u001b[39;00m\u001b[38;5;21;01mdisplay\u001b[39;00m \u001b[38;5;28;01mimport\u001b[39;00m HTML\n\u001b[1;32m     61\u001b[0m \u001b[38;5;66;03m#HTML(ani.to_jshtml())\u001b[39;00m\n\u001b[1;32m     62\u001b[0m \u001b[38;5;66;03m#ani.save('animation.mp4', writer='ffmpeg', fps=30)\u001b[39;00m\n\u001b[1;32m     63\u001b[0m \u001b[38;5;66;03m# Show the animation\u001b[39;00m\n\u001b[1;32m     64\u001b[0m \u001b[38;5;66;03m#plt.show()\u001b[39;00m\n\u001b[0;32m---> 66\u001b[0m html \u001b[38;5;241m=\u001b[39m \u001b[43mani\u001b[49m\u001b[38;5;241;43m.\u001b[39;49m\u001b[43mto_html5_video\u001b[49m\u001b[43m(\u001b[49m\u001b[43m)\u001b[49m\n\u001b[1;32m     67\u001b[0m HTML(html)\n",
      "File \u001b[0;32m~/anaconda3/envs/action/lib/python3.8/site-packages/matplotlib/animation.py:1336\u001b[0m, in \u001b[0;36mAnimation.to_html5_video\u001b[0;34m(self, embed_limit)\u001b[0m\n\u001b[1;32m   1332\u001b[0m Writer \u001b[38;5;241m=\u001b[39m writers[mpl\u001b[38;5;241m.\u001b[39mrcParams[\u001b[38;5;124m'\u001b[39m\u001b[38;5;124manimation.writer\u001b[39m\u001b[38;5;124m'\u001b[39m]]\n\u001b[1;32m   1333\u001b[0m writer \u001b[38;5;241m=\u001b[39m Writer(codec\u001b[38;5;241m=\u001b[39m\u001b[38;5;124m'\u001b[39m\u001b[38;5;124mh264\u001b[39m\u001b[38;5;124m'\u001b[39m,\n\u001b[1;32m   1334\u001b[0m                 bitrate\u001b[38;5;241m=\u001b[39mmpl\u001b[38;5;241m.\u001b[39mrcParams[\u001b[38;5;124m'\u001b[39m\u001b[38;5;124manimation.bitrate\u001b[39m\u001b[38;5;124m'\u001b[39m],\n\u001b[1;32m   1335\u001b[0m                 fps\u001b[38;5;241m=\u001b[39m\u001b[38;5;241m1000.\u001b[39m \u001b[38;5;241m/\u001b[39m \u001b[38;5;28mself\u001b[39m\u001b[38;5;241m.\u001b[39m_interval)\n\u001b[0;32m-> 1336\u001b[0m \u001b[38;5;28;43mself\u001b[39;49m\u001b[38;5;241;43m.\u001b[39;49m\u001b[43msave\u001b[49m\u001b[43m(\u001b[49m\u001b[38;5;28;43mstr\u001b[39;49m\u001b[43m(\u001b[49m\u001b[43mpath\u001b[49m\u001b[43m)\u001b[49m\u001b[43m,\u001b[49m\u001b[43m \u001b[49m\u001b[43mwriter\u001b[49m\u001b[38;5;241;43m=\u001b[39;49m\u001b[43mwriter\u001b[49m\u001b[43m)\u001b[49m\n\u001b[1;32m   1337\u001b[0m \u001b[38;5;66;03m# Now open and base64 encode.\u001b[39;00m\n\u001b[1;32m   1338\u001b[0m vid64 \u001b[38;5;241m=\u001b[39m base64\u001b[38;5;241m.\u001b[39mencodebytes(path\u001b[38;5;241m.\u001b[39mread_bytes())\n",
      "File \u001b[0;32m~/anaconda3/envs/action/lib/python3.8/site-packages/matplotlib/animation.py:1161\u001b[0m, in \u001b[0;36mAnimation.save\u001b[0;34m(self, filename, writer, fps, dpi, codec, bitrate, extra_args, metadata, extra_anim, savefig_kwargs, progress_callback)\u001b[0m\n\u001b[1;32m   1159\u001b[0m         progress_callback(frame_number, total_frames)\n\u001b[1;32m   1160\u001b[0m         frame_number \u001b[38;5;241m+\u001b[39m\u001b[38;5;241m=\u001b[39m \u001b[38;5;241m1\u001b[39m\n\u001b[0;32m-> 1161\u001b[0m writer\u001b[38;5;241m.\u001b[39mgrab_frame(\u001b[38;5;241m*\u001b[39m\u001b[38;5;241m*\u001b[39msavefig_kwargs)\n",
      "File \u001b[0;32m~/anaconda3/envs/action/lib/python3.8/contextlib.py:131\u001b[0m, in \u001b[0;36m_GeneratorContextManager.__exit__\u001b[0;34m(self, type, value, traceback)\u001b[0m\n\u001b[1;32m    129\u001b[0m     value \u001b[38;5;241m=\u001b[39m \u001b[38;5;28mtype\u001b[39m()\n\u001b[1;32m    130\u001b[0m \u001b[38;5;28;01mtry\u001b[39;00m:\n\u001b[0;32m--> 131\u001b[0m     \u001b[38;5;28;43mself\u001b[39;49m\u001b[38;5;241;43m.\u001b[39;49m\u001b[43mgen\u001b[49m\u001b[38;5;241;43m.\u001b[39;49m\u001b[43mthrow\u001b[49m\u001b[43m(\u001b[49m\u001b[38;5;28;43mtype\u001b[39;49m\u001b[43m,\u001b[49m\u001b[43m \u001b[49m\u001b[43mvalue\u001b[49m\u001b[43m,\u001b[49m\u001b[43m \u001b[49m\u001b[43mtraceback\u001b[49m\u001b[43m)\u001b[49m\n\u001b[1;32m    132\u001b[0m \u001b[38;5;28;01mexcept\u001b[39;00m \u001b[38;5;167;01mStopIteration\u001b[39;00m \u001b[38;5;28;01mas\u001b[39;00m exc:\n\u001b[1;32m    133\u001b[0m     \u001b[38;5;66;03m# Suppress StopIteration *unless* it's the same exception that\u001b[39;00m\n\u001b[1;32m    134\u001b[0m     \u001b[38;5;66;03m# was passed to throw().  This prevents a StopIteration\u001b[39;00m\n\u001b[1;32m    135\u001b[0m     \u001b[38;5;66;03m# raised inside the \"with\" statement from being suppressed.\u001b[39;00m\n\u001b[1;32m    136\u001b[0m     \u001b[38;5;28;01mreturn\u001b[39;00m exc \u001b[38;5;129;01mis\u001b[39;00m \u001b[38;5;129;01mnot\u001b[39;00m value\n",
      "File \u001b[0;32m~/anaconda3/envs/action/lib/python3.8/site-packages/matplotlib/animation.py:253\u001b[0m, in \u001b[0;36mAbstractMovieWriter.saving\u001b[0;34m(self, fig, outfile, dpi, *args, **kwargs)\u001b[0m\n\u001b[1;32m    251\u001b[0m     \u001b[38;5;28;01myield\u001b[39;00m \u001b[38;5;28mself\u001b[39m\n\u001b[1;32m    252\u001b[0m \u001b[38;5;28;01mfinally\u001b[39;00m:\n\u001b[0;32m--> 253\u001b[0m     \u001b[38;5;28;43mself\u001b[39;49m\u001b[38;5;241;43m.\u001b[39;49m\u001b[43mfinish\u001b[49m\u001b[43m(\u001b[49m\u001b[43m)\u001b[49m\n",
      "File \u001b[0;32m~/anaconda3/envs/action/lib/python3.8/site-packages/matplotlib/animation.py:354\u001b[0m, in \u001b[0;36mMovieWriter.finish\u001b[0;34m(self)\u001b[0m\n\u001b[1;32m    352\u001b[0m \u001b[38;5;28;01mdef\u001b[39;00m \u001b[38;5;21mfinish\u001b[39m(\u001b[38;5;28mself\u001b[39m):\n\u001b[1;32m    353\u001b[0m     \u001b[38;5;124;03m\"\"\"Finish any processing for writing the movie.\"\"\"\u001b[39;00m\n\u001b[0;32m--> 354\u001b[0m     \u001b[38;5;28;43mself\u001b[39;49m\u001b[38;5;241;43m.\u001b[39;49m\u001b[43mcleanup\u001b[49m\u001b[43m(\u001b[49m\u001b[43m)\u001b[49m\n",
      "File \u001b[0;32m~/anaconda3/envs/action/lib/python3.8/site-packages/matplotlib/animation.py:390\u001b[0m, in \u001b[0;36mMovieWriter.cleanup\u001b[0;34m(self)\u001b[0m\n\u001b[1;32m    386\u001b[0m     _log\u001b[38;5;241m.\u001b[39mlog(\n\u001b[1;32m    387\u001b[0m         logging\u001b[38;5;241m.\u001b[39mWARNING \u001b[38;5;28;01mif\u001b[39;00m \u001b[38;5;28mself\u001b[39m\u001b[38;5;241m.\u001b[39m_proc\u001b[38;5;241m.\u001b[39mreturncode \u001b[38;5;28;01melse\u001b[39;00m logging\u001b[38;5;241m.\u001b[39mDEBUG,\n\u001b[1;32m    388\u001b[0m         \u001b[38;5;124m\"\u001b[39m\u001b[38;5;124mMovieWriter stderr:\u001b[39m\u001b[38;5;130;01m\\n\u001b[39;00m\u001b[38;5;132;01m%s\u001b[39;00m\u001b[38;5;124m\"\u001b[39m, err)\n\u001b[1;32m    389\u001b[0m \u001b[38;5;28;01mif\u001b[39;00m \u001b[38;5;28mself\u001b[39m\u001b[38;5;241m.\u001b[39m_proc\u001b[38;5;241m.\u001b[39mreturncode:\n\u001b[0;32m--> 390\u001b[0m     \u001b[38;5;28;01mraise\u001b[39;00m subprocess\u001b[38;5;241m.\u001b[39mCalledProcessError(\n\u001b[1;32m    391\u001b[0m         \u001b[38;5;28mself\u001b[39m\u001b[38;5;241m.\u001b[39m_proc\u001b[38;5;241m.\u001b[39mreturncode, \u001b[38;5;28mself\u001b[39m\u001b[38;5;241m.\u001b[39m_proc\u001b[38;5;241m.\u001b[39margs, out, err)\n",
      "\u001b[0;31mCalledProcessError\u001b[0m: Command '['ffmpeg', '-f', 'rawvideo', '-vcodec', 'rawvideo', '-s', '640x480', '-pix_fmt', 'rgba', '-r', '10.0', '-loglevel', 'error', '-i', 'pipe:', '-vcodec', 'h264', '-pix_fmt', 'yuv420p', '-y', '/tmp/tmpe5l4s3ba/temp.m4v']' returned non-zero exit status 127."
     ]
    },
    {
     "data": {
      "image/png": "[encoded data removed]",
      "text/plain": [
       "<Figure size 640x480 with 1 Axes>"
      ]
     },
     "metadata": {},
     "output_type": "display_data"
    }
   ],
   "source": [
    "import numpy as np\n",
    "import matplotlib.pyplot as plt\n",
    "import matplotlib.animation as animation\n",
    "%matplotlib inline \n",
    "\n",
    "# Define your 30 frames of 13 points each in a 3D numpy array\n",
    "#frames = np.random.rand(30, 13, 2) * 100\n",
    "\n",
    "frames= np.array(res)\n",
    "\n",
    "\n",
    "# Define a function that will update the plot for each frame of the animation\n",
    "def animate(i):\n",
    "    plt.cla() # Clear the previous plot\n",
    "    # Plot the 13 points for the i-th frame\n",
    "    x = frames[i,:,0]\n",
    "    y = frames[i,:,1]\n",
    "    plt.scatter(x, y, s=50, color='blue')\n",
    "    \n",
    "    labels = np.arange(len(frames[i,:,0]))\n",
    "    offset = -0.1\n",
    "    kp=len(frames[i,:,0])\n",
    "    \n",
    "    for j, label in enumerate(labels):\n",
    "        plt.text(x[j], y[j]  + offset , label, ha='center', va='center')\n",
    "    \n",
    "    \n",
    "    #bones = [ (0,1), (1,2), (2,3), (0,4), (4,5), (5,6), (0,7), (7,8), (8,9), (0,10), (10,11), (11,12) ]\n",
    "    #bones = [ (0,1), (1,2), (1,4), (2,3), (0,4), (4,5), (5,6), (1,7), (7,8), (8,9), (7,10), (4,10), (10,11), (11,12) ]\n",
    "    #bones = [ (8,10), (10,12), (2,4), (4,6), (1,3),(3,9), (5,7), (7,11) ] # (0,4), (4,5), (5,6), (1,7), (7,8), (8,9), (7,10), (4,10), (10,11), (11,12) ]\n",
    "    if True: #len(points)==13:\n",
    "        #bones = [ (0,1), (1,2), (2,3), (0,4), (4,5), (5,6), (0,7), (7,8), (8,9), (0,10), (10,11), (11,12) ]\n",
    "        bones = [ (0,1), (1,2), (1,4), (2,3), (0,4), (4,5), (5,6), (1,7), (7,8), (8,9), (7,10), (4,10), (10,11), (11,12) ]\n",
    "        \n",
    "    else:\n",
    "        bones = [ (0,1), (1,2), (2,3), (3,4), (1,5), (5,6), (6,7), (1,8), (8,9), (9,10), (10,11), (8,12), (12,13), (13,14) ]\n",
    "        #bones = [ (0,1), (1,2), (2,3), (3,4), (1,5), (5,6), (6,7), (2,9), (5,12), (8,9), (9,10), (10,11), (8,12), (12,13), (13,14) ]\n",
    "    # Draw the bones\n",
    "    # Draw the bones\n",
    "    for bone in bones:\n",
    "        x = [frames[i,bone[0],[0]], frames[i,bone[1],[0]]]\n",
    "        y = [frames[i,bone[0],[1]], frames[i,bone[1],[1]]]\n",
    "        plt.plot(x, y, linewidth=2, color='red')\n",
    "    # Set the x and y limits\n",
    "    x_min = np.min(frames[:,:,0]) - .25\n",
    "    x_max = np.max(frames[:,:,0]) + .25\n",
    "    y_min = np.min(frames[:,:,1]) - .25\n",
    "    y_max = np.max(frames[:,:,1]) + .25\n",
    "    plt.xlim([x_min, x_max])\n",
    "    plt.ylim([y_min, y_max])\n",
    "    \n",
    "    # Set the plot title\n",
    "    plt.title(f\"Frame {i}\")\n",
    "    plt.gca().invert_yaxis()\n",
    "    \n",
    "\n",
    "\n",
    "# Create the animation using the FuncAnimation function\n",
    "ani = animation.FuncAnimation(plt.gcf(), animate, frames=range(30), interval=100)\n",
    "from IPython.display import HTML\n",
    "#HTML(ani.to_jshtml())\n",
    "#ani.save('animation.mp4', writer='ffmpeg', fps=30)\n",
    "# Show the animation\n",
    "#plt.show()\n",
    "\n",
    "html = ani.to_html5_video()\n",
    "HTML(html)"
   ]
  },
  {
   "cell_type": "code",
   "execution_count": null,
   "id": "f35c5d59-1d0a-47b3-8d6f-ff4eabb88806",
   "metadata": {},
   "outputs": [],
   "source": []
  },
  {
   "cell_type": "code",
   "execution_count": null,
   "id": "00332115-a7ad-4620-a869-0eaa67113f7b",
   "metadata": {},
   "outputs": [],
   "source": []
  },
  {
   "cell_type": "code",
   "execution_count": null,
   "id": "dd4a1cc6-a139-42c7-b6a6-15303000f88d",
   "metadata": {},
   "outputs": [],
   "source": []
  },
  {
   "cell_type": "code",
   "execution_count": null,
   "id": "2769d089-01b6-4afa-8bf8-7a4f400dcf0b",
   "metadata": {},
   "outputs": [],
   "source": []
  }
 ],
 "metadata": {
  "kernelspec": {
   "display_name": "Python 3 (ipykernel)",
   "language": "python",
   "name": "python3"
  },
  "language_info": {
   "codemirror_mode": {
    "name": "ipython",
    "version": 3
   },
   "file_extension": ".py",
   "mimetype": "text/x-python",
   "name": "python",
   "nbconvert_exporter": "python",
   "pygments_lexer": "ipython3",
   "version": "3.8.15"
  }
 },
 "nbformat": 4,
 "nbformat_minor": 5
}
